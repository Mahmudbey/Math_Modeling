{
  "nbformat": 4,
  "nbformat_minor": 0,
  "metadata": {
    "colab": {
      "provenance": [],
      "authorship_tag": "ABX9TyMR0ra+40bMJJBHvMfLZ1T5",
      "include_colab_link": true
    },
    "kernelspec": {
      "name": "python3",
      "display_name": "Python 3"
    },
    "language_info": {
      "name": "python"
    }
  },
  "cells": [
    {
      "cell_type": "markdown",
      "metadata": {
        "id": "view-in-github",
        "colab_type": "text"
      },
      "source": [
        "<a href=\"https://colab.research.google.com/github/Mahmudbey/Math_Modeling/blob/main/Mod.ipynb\" target=\"_parent\"><img src=\"https://colab.research.google.com/assets/colab-badge.svg\" alt=\"Open In Colab\"/></a>"
      ]
    },
    {
      "cell_type": "code",
      "source": [
        "def EKUB(a, b):\n",
        "  while a>0:\n",
        "    if b>a:\n",
        "      a, b = b, a\n",
        "    c = b\n",
        "    b = a-b\n",
        "    a = c\n",
        "  return b"
      ],
      "metadata": {
        "id": "nuCqVFw-yr7V"
      },
      "execution_count": 73,
      "outputs": []
    },
    {
      "cell_type": "code",
      "source": [
        "#EKUB(48, 120)"
      ],
      "metadata": {
        "colab": {
          "base_uri": "https://localhost:8080/"
        },
        "id": "WSTLsguBzTbG",
        "outputId": "a85660cc-5ba0-4378-c99c-ffc402542cf6"
      },
      "execution_count": 27,
      "outputs": [
        {
          "output_type": "execute_result",
          "data": {
            "text/plain": [
              "24"
            ]
          },
          "metadata": {},
          "execution_count": 27
        }
      ]
    },
    {
      "cell_type": "code",
      "source": [
        "def Mod(a, p):\n",
        "  if EKUB(a, p) !=1:\n",
        "    return f\"{a} va {p} sonlarini umumiy {EKUB(a,p)} bo'luvchisi bor\"\n",
        "  else:\n",
        "    return a%p"
      ],
      "metadata": {
        "id": "qsxa3OVxzV3H"
      },
      "execution_count": 74,
      "outputs": []
    },
    {
      "cell_type": "code",
      "source": [
        "#Mod(34, 27)"
      ],
      "metadata": {
        "colab": {
          "base_uri": "https://localhost:8080/"
        },
        "id": "SiVY60bP0v5t",
        "outputId": "40a19e1c-4a6f-46c0-d868-583e1b7c01d2"
      },
      "execution_count": 32,
      "outputs": [
        {
          "output_type": "execute_result",
          "data": {
            "text/plain": [
              "7"
            ]
          },
          "metadata": {},
          "execution_count": 32
        }
      ]
    },
    {
      "cell_type": "code",
      "source": [
        "def Mod_d(a, b, p):\n",
        "  if EKUB(a**b, p) !=1:\n",
        "    return f\"{a}^{b} va {p} sonlarini umumiy {EKUB(a**b,p)} bo'luvchisi bor\"\n",
        "  else:\n",
        "    s = 1\n",
        "    for i in range(1,b+1):\n",
        "      s *= a%p\n",
        "      if s == 1:\n",
        "        break\n",
        "    return s%p"
      ],
      "metadata": {
        "id": "7-kJMX_W0xp5"
      },
      "execution_count": 75,
      "outputs": []
    },
    {
      "cell_type": "code",
      "source": [
        "#Mod_d(53,2,17)"
      ],
      "metadata": {
        "colab": {
          "base_uri": "https://localhost:8080/"
        },
        "id": "iejVAIhK1N5n",
        "outputId": "c9615ecb-0a73-4deb-8eaf-f23ffa18772a"
      },
      "execution_count": 48,
      "outputs": [
        {
          "output_type": "execute_result",
          "data": {
            "text/plain": [
              "4"
            ]
          },
          "metadata": {},
          "execution_count": 48
        }
      ]
    },
    {
      "cell_type": "code",
      "source": [
        "def Mod_t(a, p):\n",
        "  if EKUB(a, p) !=1:\n",
        "    return f\"{a} va {p} sonlarini umumiy {EKUB(a,p)} bo'luvchisi bor\"\n",
        "  else:\n",
        "    s = 1\n",
        "    for i in range(1,p-1):\n",
        "      s *= a%p\n",
        "      if s == 1:\n",
        "        break\n",
        "    return s%p"
      ],
      "metadata": {
        "id": "N683gwwC2WyV"
      },
      "execution_count": 76,
      "outputs": []
    },
    {
      "cell_type": "code",
      "source": [
        "#Mod_t(7, 11)"
      ],
      "metadata": {
        "id": "nP9Isv292wFJ"
      },
      "execution_count": 52,
      "outputs": []
    },
    {
      "cell_type": "code",
      "source": [
        "def Input(n):\n",
        "  try:\n",
        "    if n>0 and type(n) is int:\n",
        "      return n\n",
        "    else:\n",
        "      raise ValueError\n",
        "  except ValueError:\n",
        "    print(\"Natural son kiriting\")\n",
        "    Input(n)"
      ],
      "metadata": {
        "id": "YHNDTFO132Lj"
      },
      "execution_count": 77,
      "outputs": []
    },
    {
      "cell_type": "code",
      "source": [
        "print(\"Oddiy Mod rejimi uchun 1 ni bosing\\n\",\n",
        "      \"Darajali Mod rejimi uchun 2 ni bosing\\n\",\n",
        "      \"Teskari Mod rejimi uchun 3 ni bosing\", sep=\"\")\n",
        "inp = \"\"\n",
        "inp = input(\"1,2,3 ?\")"
      ],
      "metadata": {
        "colab": {
          "base_uri": "https://localhost:8080/"
        },
        "id": "4e0BK_OY29OM",
        "outputId": "10460286-b3f0-4dc4-bbda-44d9858c9c10"
      },
      "execution_count": 71,
      "outputs": [
        {
          "name": "stdout",
          "output_type": "stream",
          "text": [
            "Oddiy Mod rejimi uchun 1 ni bosing\n",
            "Darajali Mod rejimi uchun 2 ni bosing\n",
            "Teskari Mod rejimi uchun 3 ni bosing\n",
            "1,2,3 ?3\n"
          ]
        }
      ]
    },
    {
      "cell_type": "code",
      "source": [
        "match inp:\n",
        "  case \"1\":\n",
        "    a = Input(int(input(\"a=\")))\n",
        "    p = Input(int(input(\"p=\")))\n",
        "    print(Mod(a, p))\n",
        "  case \"2\":\n",
        "    a = Input(int(input(\"asos=\")))\n",
        "    b = Input(int(input(\"daraja=\")))\n",
        "    p = Input(int(input(\"p=\")))\n",
        "    print(Mod_d(a, b, p))\n",
        "  case \"3\":\n",
        "    a = Input(int(input(\"a=\")))\n",
        "    p = Input(int(input(\"p=\")))\n",
        "    print(Mod_t(a, p))\n",
        "  case _:\n",
        "    print(\"1,2,3 sonlaridan birini tanlang!\")\n",
        "\n"
      ],
      "metadata": {
        "colab": {
          "base_uri": "https://localhost:8080/"
        },
        "id": "h1oxWiWR2_Mv",
        "outputId": "c35d6a73-0085-42c8-f05a-47a17fc78b31"
      },
      "execution_count": 72,
      "outputs": [
        {
          "output_type": "stream",
          "name": "stdout",
          "text": [
            "a=7\n",
            "p=11\n",
            "8\n"
          ]
        }
      ]
    },
    {
      "cell_type": "code",
      "source": [],
      "metadata": {
        "id": "OzJQbEh54tBE"
      },
      "execution_count": null,
      "outputs": []
    }
  ]
}